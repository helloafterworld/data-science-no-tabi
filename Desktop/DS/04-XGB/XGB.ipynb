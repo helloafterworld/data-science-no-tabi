{
 "cells": [
  {
   "cell_type": "markdown",
   "id": "41e8bb9e",
   "metadata": {},
   "source": [
    "## Implementasi Extreme Gradient Boosting (XGB)"
   ]
  },
  {
   "cell_type": "code",
   "execution_count": 1,
   "id": "4a500954",
   "metadata": {},
   "outputs": [],
   "source": [
    "import pandas as pd\n",
    "import numpy as np\n",
    "import xgboost as xgb\n",
    "from sklearn.model_selection import train_test_split\n",
    "from sklearn.metrics import mean_squared_error, mean_absolute_error, r2_score\n",
    "import matplotlib.pyplot as plt\n",
    "\n",
    "# Mengatur agar tampilan plot lebih baik\n",
    "plt.style.use('ggplot')"
   ]
  },
  {
   "cell_type": "code",
   "execution_count": 2,
   "id": "21b016ab",
   "metadata": {},
   "outputs": [
    {
     "name": "stdout",
     "output_type": "stream",
     "text": [
      "--- Tampilan 5 Baris Pertama Data ---\n",
      "   age     sex     bmi  children smoker     region      charges\n",
      "0   19  female  27.900         0    yes  southwest  16884.92400\n",
      "1   18    male  33.770         1     no  southeast   1725.55230\n",
      "2   28    male  33.000         3     no  southeast   4449.46200\n",
      "3   33    male  22.705         0     no  northwest  21984.47061\n",
      "4   32    male  28.880         0     no  northwest   3866.85520\n",
      "\n",
      "--- Info Struktur Data ---\n",
      "<class 'pandas.core.frame.DataFrame'>\n",
      "RangeIndex: 1338 entries, 0 to 1337\n",
      "Data columns (total 7 columns):\n",
      " #   Column    Non-Null Count  Dtype  \n",
      "---  ------    --------------  -----  \n",
      " 0   age       1338 non-null   int64  \n",
      " 1   sex       1338 non-null   object \n",
      " 2   bmi       1338 non-null   float64\n",
      " 3   children  1338 non-null   int64  \n",
      " 4   smoker    1338 non-null   object \n",
      " 5   region    1338 non-null   object \n",
      " 6   charges   1338 non-null   float64\n",
      "dtypes: float64(2), int64(2), object(3)\n",
      "memory usage: 73.3+ KB\n",
      "\n",
      "--- Statistik Deskriptif ---\n",
      "               age          bmi     children       charges\n",
      "count  1338.000000  1338.000000  1338.000000   1338.000000\n",
      "mean     39.207025    30.663397     1.094918  13270.422265\n",
      "std      14.049960     6.098187     1.205493  12110.011237\n",
      "min      18.000000    15.960000     0.000000   1121.873900\n",
      "25%      27.000000    26.296250     0.000000   4740.287150\n",
      "50%      39.000000    30.400000     1.000000   9382.033000\n",
      "75%      51.000000    34.693750     2.000000  16639.912515\n",
      "max      64.000000    53.130000     5.000000  63770.428010\n"
     ]
    }
   ],
   "source": [
    "# Ganti 'path/to/your/insurance.csv' dengan lokasi file Anda\n",
    "# Jika file ada di folder yang sama, cukup tulis 'insurance.csv'\n",
    "file_path = 'insurance.csv'\n",
    "df = pd.read_csv(file_path)\n",
    "\n",
    "# Tampilkan 5 baris pertama\n",
    "print(\"--- Tampilan 5 Baris Pertama Data ---\")\n",
    "print(df.head())\n",
    "\n",
    "# Lihat informasi dasar dan tipe data setiap kolom\n",
    "print(\"\\n--- Info Struktur Data ---\")\n",
    "df.info()\n",
    "\n",
    "# Lihat statistik deskriptif untuk kolom numerik\n",
    "print(\"\\n--- Statistik Deskriptif ---\")\n",
    "print(df.describe())"
   ]
  },
  {
   "cell_type": "code",
   "execution_count": 3,
   "id": "529e41f6",
   "metadata": {},
   "outputs": [
    {
     "name": "stdout",
     "output_type": "stream",
     "text": [
      "--- Data Setelah One-Hot Encoding ---\n",
      "   age     bmi  children      charges  sex_male  smoker_yes  region_northwest  \\\n",
      "0   19  27.900         0  16884.92400     False        True             False   \n",
      "1   18  33.770         1   1725.55230      True       False             False   \n",
      "2   28  33.000         3   4449.46200      True       False             False   \n",
      "3   33  22.705         0  21984.47061      True       False              True   \n",
      "4   32  28.880         0   3866.85520      True       False              True   \n",
      "\n",
      "   region_southeast  region_southwest  \n",
      "0             False              True  \n",
      "1              True             False  \n",
      "2              True             False  \n",
      "3             False             False  \n",
      "4             False             False  \n"
     ]
    }
   ],
   "source": [
    "# Terapkan One-Hot Encoding pada kolom kategorikal\n",
    "df_processed = pd.get_dummies(df, columns=['sex', 'smoker', 'region'], drop_first=True)\n",
    "\n",
    "print(\"--- Data Setelah One-Hot Encoding ---\")\n",
    "print(df_processed.head())"
   ]
  },
  {
   "cell_type": "code",
   "execution_count": 4,
   "id": "078cd056",
   "metadata": {},
   "outputs": [],
   "source": [
    "# Target (y) adalah apa yang ingin kita prediksi\n",
    "y = df_processed['charges']\n",
    "\n",
    "# Fitur (X) adalah semua kolom lain yang digunakan untuk prediksi\n",
    "X = df_processed.drop('charges', axis=1)"
   ]
  },
  {
   "cell_type": "code",
   "execution_count": 5,
   "id": "4adbe34a",
   "metadata": {},
   "outputs": [
    {
     "name": "stdout",
     "output_type": "stream",
     "text": [
      "Ukuran data latih (X_train): (1070, 8)\n",
      "Ukuran data uji (X_test):   (268, 8)\n"
     ]
    }
   ],
   "source": [
    "X_train, X_test, y_train, y_test = train_test_split(X, y, test_size=0.2, random_state=42)\n",
    "\n",
    "print(f\"Ukuran data latih (X_train): {X_train.shape}\")\n",
    "print(f\"Ukuran data uji (X_test):   {X_test.shape}\")"
   ]
  },
  {
   "cell_type": "code",
   "execution_count": 6,
   "id": "9f752923",
   "metadata": {},
   "outputs": [
    {
     "name": "stdout",
     "output_type": "stream",
     "text": [
      "--- Melatih Model XGBoost Regressor... ---\n",
      "Model selesai dilatih!\n"
     ]
    }
   ],
   "source": [
    "# Inisialisasi XGBRegressor dengan beberapa hyperparameter umum\n",
    "# n_estimators: Jumlah pohon yang akan dibangun\n",
    "# max_depth: Kedalaman maksimum setiap pohon\n",
    "# learning_rate: Seberapa cepat model belajar\n",
    "# objective: Fungsi objektif untuk regresi\n",
    "model = xgb.XGBRegressor(\n",
    "    objective='reg:squarederror',\n",
    "    n_estimators=100,\n",
    "    max_depth=5,\n",
    "    learning_rate=0.1,\n",
    "    random_state=42\n",
    ")\n",
    "\n",
    "# Latih model dengan data training\n",
    "print(\"--- Melatih Model XGBoost Regressor... ---\")\n",
    "model.fit(X_train, y_train)\n",
    "print(\"Model selesai dilatih!\")"
   ]
  }
 ],
 "metadata": {
  "kernelspec": {
   "display_name": "Python 3",
   "language": "python",
   "name": "python3"
  },
  "language_info": {
   "codemirror_mode": {
    "name": "ipython",
    "version": 3
   },
   "file_extension": ".py",
   "mimetype": "text/x-python",
   "name": "python",
   "nbconvert_exporter": "python",
   "pygments_lexer": "ipython3",
   "version": "3.11.9"
  }
 },
 "nbformat": 4,
 "nbformat_minor": 5
}
