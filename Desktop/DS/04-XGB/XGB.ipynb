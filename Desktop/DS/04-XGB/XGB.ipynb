{
 "cells": [
  {
   "cell_type": "markdown",
   "id": "41e8bb9e",
   "metadata": {},
   "source": [
    "## Implementasi Extreme Gradient Boosting (XGB)"
   ]
  },
  {
   "cell_type": "code",
   "execution_count": 2,
   "id": "4a500954",
   "metadata": {},
   "outputs": [
    {
     "name": "stdout",
     "output_type": "stream",
     "text": [
      "--- Melatih Model XGBoost ---\n"
     ]
    },
    {
     "ename": "NameError",
     "evalue": "name 'X_train_scaled' is not defined",
     "output_type": "error",
     "traceback": [
      "\u001b[31m---------------------------------------------------------------------------\u001b[39m",
      "\u001b[31mNameError\u001b[39m                                 Traceback (most recent call last)",
      "\u001b[36mCell\u001b[39m\u001b[36m \u001b[39m\u001b[32mIn[2]\u001b[39m\u001b[32m, line 14\u001b[39m\n\u001b[32m     10\u001b[39m xgb_model = xgb.XGBClassifier(random_state=\u001b[32m42\u001b[39m, use_label_encoder=\u001b[38;5;28;01mFalse\u001b[39;00m, eval_metric=\u001b[33m'\u001b[39m\u001b[33mlogloss\u001b[39m\u001b[33m'\u001b[39m)\n\u001b[32m     12\u001b[39m \u001b[38;5;66;03m# 2. Latih model pada data training yang sama (sudah di-scale)\u001b[39;00m\n\u001b[32m     13\u001b[39m \u001b[38;5;66;03m#    Asumsi: X_train_scaled dan y_train sudah ada dari langkah sebelumnya.\u001b[39;00m\n\u001b[32m---> \u001b[39m\u001b[32m14\u001b[39m xgb_model.fit(\u001b[43mX_train_scaled\u001b[49m, y_train)\n\u001b[32m     15\u001b[39m \u001b[38;5;28mprint\u001b[39m(\u001b[33m\"\u001b[39m\u001b[33mModel XGBoost berhasil dilatih.\u001b[39m\u001b[33m\"\u001b[39m)\n\u001b[32m     17\u001b[39m \u001b[38;5;66;03m# 3. Lakukan prediksi pada data uji\u001b[39;00m\n",
      "\u001b[31mNameError\u001b[39m: name 'X_train_scaled' is not defined"
     ]
    }
   ],
   "source": [
    "import xgboost as xgb\n",
    "from sklearn.metrics import classification_report\n",
    "\n",
    "# --- Bagian Baru: Implementasi XGBoost ---\n",
    "\n",
    "print(\"--- Melatih Model XGBoost ---\")\n",
    "\n",
    "# 1. Inisialisasi XGBoost Classifier\n",
    "#    use_label_encoder=False dan eval_metric='logloss' adalah parameter umum untuk menghindari warning.\n",
    "xgb_model = xgb.XGBClassifier(random_state=42, use_label_encoder=False, eval_metric='logloss')\n",
    "\n",
    "# 2. Latih model pada data training yang sama (sudah di-scale)\n",
    "#    Asumsi: X_train_scaled dan y_train sudah ada dari langkah sebelumnya.\n",
    "xgb_model.fit(X_train_scaled, y_train)\n",
    "print(\"Model XGBoost berhasil dilatih.\")\n",
    "\n",
    "# 3. Lakukan prediksi pada data uji\n",
    "y_pred_xgb = xgb_model.predict(X_test_scaled)\n",
    "\n",
    "# 4. Tampilkan laporan evaluasi untuk XGBoost\n",
    "print(\"\\n--- Laporan Evaluasi untuk XGBoost ---\")\n",
    "print(classification_report(y_test, y_pred_xgb))"
   ]
  },
  {
   "cell_type": "code",
   "execution_count": null,
   "id": "21b016ab",
   "metadata": {},
   "outputs": [],
   "source": [
    "# Dapatkan feature importance dari model XGBoost\n",
    "xgb_importances = xgb_model.feature_importances_\n",
    "\n",
    "# Buat DataFrame untuk visualisasi\n",
    "xgb_importance_df = pd.DataFrame({\n",
    "    'feature': X.columns,\n",
    "    'importance': xgb_importances\n",
    "}).sort_values('importance', ascending=False)\n",
    "\n",
    "# Visualisasikan 10 fitur teratas\n",
    "plt.figure(figsize=(10, 6))\n",
    "sns.barplot(x='importance', y='feature', data=xgb_importance_df.head(10))\n",
    "plt.title('Top 10 Fitur Paling Penting Menurut XGBoost')\n",
    "plt.show()"
   ]
  }
 ],
 "metadata": {
  "kernelspec": {
   "display_name": "Python 3",
   "language": "python",
   "name": "python3"
  },
  "language_info": {
   "codemirror_mode": {
    "name": "ipython",
    "version": 3
   },
   "file_extension": ".py",
   "mimetype": "text/x-python",
   "name": "python",
   "nbconvert_exporter": "python",
   "pygments_lexer": "ipython3",
   "version": "3.11.9"
  }
 },
 "nbformat": 4,
 "nbformat_minor": 5
}
